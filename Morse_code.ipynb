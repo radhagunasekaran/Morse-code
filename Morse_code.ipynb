{
  "nbformat": 4,
  "nbformat_minor": 0,
  "metadata": {
    "colab": {
      "name": "Morse code",
      "provenance": [],
      "authorship_tag": "ABX9TyMBV/IkPYYnuiKtfBPCkMwg",
      "include_colab_link": true
    },
    "kernelspec": {
      "name": "python3",
      "display_name": "Python 3"
    },
    "language_info": {
      "name": "python"
    }
  },
  "cells": [
    {
      "cell_type": "markdown",
      "metadata": {
        "id": "view-in-github",
        "colab_type": "text"
      },
      "source": [
        "<a href=\"https://colab.research.google.com/github/radhagunasekaran/Morse-code/blob/main/Morse_code.ipynb\" target=\"_parent\"><img src=\"https://colab.research.google.com/assets/colab-badge.svg\" alt=\"Open In Colab\"/></a>"
      ]
    },
    {
      "cell_type": "code",
      "metadata": {
        "colab": {
          "base_uri": "https://localhost:8080/"
        },
        "id": "mvHbLAjFXHqx",
        "outputId": "64cfeb98-3e65-4937-a0e4-d20c80990eff"
      },
      "source": [
        "MORSE_CODE_RULE = { 'A':'.-', 'B':'-...',\n",
        "                    'C':'-.-.', 'D':'-..', 'E':'.',\n",
        "                    'F':'..-.', 'G':'--.', 'H':'....',\n",
        "                    'I':'..', 'J':'.---', 'K':'-.-',\n",
        "                    'L':'.-..', 'M':'--', 'N':'-.',\n",
        "                    'O':'---', 'P':'.--.', 'Q':'--.-',\n",
        "                    'R':'.-.', 'S':'...', 'T':'-',\n",
        "                    'U':'..-', 'V':'...-', 'W':'.--',\n",
        "                    'X':'-..-', 'Y':'-.--', 'Z':'--..',\n",
        "                    '1':'.----', '2':'..---', '3':'...--',\n",
        "                    '4':'....-', '5':'.....', '6':'-....',\n",
        "                    '7':'--...', '8':'---..', '9':'----.',\n",
        "                    '0':'-----', ', ':'--..--', '.':'.-.-.-',\n",
        "                    '?':'..--..', '/':'-..-.', '-':'-....-',\n",
        "                    '(':'-.--.', ')':'-.--.-'}\n",
        "  \n",
        "# Function to encrypt the string for the given text\n",
        "\n",
        "def encrypt(Text):\n",
        "    Morse_code = ''\n",
        "    for letter in Text:\n",
        "       #Seach for the morse code in dictionary\n",
        "\n",
        "        if letter != ' ':\n",
        "            Morse_code += MORSE_CODE_RULE[letter] + ' '\n",
        "\n",
        "        else: \n",
        "            Morse_code+= ' '\n",
        "  \n",
        "    return Morse_code\n",
        "\n",
        "\n",
        "#Find the corresponding letter for the morse code detected\n",
        "\n",
        "def get_key(val):\n",
        "    for key, value in MORSE_CODE_RULE.items():\n",
        "         if val == value:\n",
        "             return key\n",
        " \n",
        "    return \n",
        "  \n",
        "# Function to decrypt the morse code to the original text\n",
        "\n",
        "def decrypt(Morse_Code):\n",
        "  \n",
        "    Text = ''\n",
        "    Morse_letter=''\n",
        "\n",
        "    #Find the morse code for each letter\n",
        "\n",
        "    for letter in Morse_Code:\n",
        "\n",
        "        if (letter != ' '):\n",
        "            i = 0\n",
        "            Morse_letter+=letter\n",
        "  \n",
        "        else:\n",
        "            i += 1\n",
        "\n",
        "            #Search for the text for the corresponding morse code\n",
        "            if i == 1 :\n",
        "                Text += get_key(Morse_letter)\n",
        "                Morse_letter=''  \n",
        "\n",
        "            #adding space in between 2 word      \n",
        "            elif i == 2:\n",
        "                Text += ' '\n",
        "\n",
        "            else:\n",
        "                pass\n",
        "  \n",
        "    return Text\n",
        "  \n",
        "word=str(input())\n",
        "Morse_code=encrypt(word)\n",
        "print(Morse_code)\n",
        "Text=decrypt(Morse_code)\n",
        "print(Text)\n"
      ],
      "execution_count": null,
      "outputs": [
        {
          "output_type": "stream",
          "text": [
            "GEEKS-FOR-GEEKS\n",
            "--. . . -.- ... -....- ..-. --- .-. -....- --. . . -.- ... \n",
            "GEEKS-FOR-GEEKS\n"
          ],
          "name": "stdout"
        }
      ]
    }
  ]
}